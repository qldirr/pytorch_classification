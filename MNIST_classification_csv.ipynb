{
 "cells": [
  {
   "cell_type": "code",
   "execution_count": 5,
   "id": "e2b06b1d",
   "metadata": {},
   "outputs": [],
   "source": [
    "import os\n",
    "from typing import Tuple, Sequence, Callable\n",
    "import csv\n",
    "import cv2     #opencv-python, 컴퓨터비전 관련 tool\n",
    "import numpy as np\n",
    "import pandas as pd\n",
    "from PIL import Image\n",
    "import torch\n",
    "import torch.optim as optim\n",
    "from torch import nn, Tensor\n",
    "from torch.utils.data import Dataset, DataLoader\n",
    "from torchinfo import summary    #torchinfo\n",
    "from torchvision import transforms\n",
    "from torchvision.models import resnet50"
   ]
  },
  {
   "cell_type": "code",
   "execution_count": 6,
   "id": "dc81c384",
   "metadata": {},
   "outputs": [],
   "source": [
    "#커스텀 데이터셋 만들기\n",
    "class Dataset(Dataset):\n",
    "    def __init__(self, dir, image_ids, transforms):\n",
    "        self.dir = dir\n",
    "        self.transforms = transforms\n",
    "        \n",
    "        self.labels = []\n",
    "        with open(image_ids, 'r') as f:\n",
    "            reader = csv.reader()\n",
    "            next(reader)\n",
    "            for row in reader:\n",
    "                self.labels[int(row[0])] = list(map(int, row[1:]))\n",
    "        self.image_ids = list(self.labels.keys())\n",
    "        \n",
    "    def __len__(self):\n",
    "        return len(self.image_ids)\n",
    "    \n",
    "    def __getitem__(self, index):\n",
    "        image_id = self.image_ids[index]\n",
    "        image = Image.open(os.path.join(self.dir, f'{str(image_id).zfill(5)}png')).convert('RGB')\n",
    "        target = np.array(self.labels.get(image_id)).astype(np.float32)\n",
    "        \n",
    "        if self.transforms is not None:\n",
    "            image = self.transforms(image)\n",
    "            \n",
    "        return image, target"
   ]
  },
  {
   "cell_type": "code",
   "execution_count": 7,
   "id": "aa1cb406",
   "metadata": {},
   "outputs": [],
   "source": [
    "#데이터 augumentation\n",
    "transforms_train = transforms.Compose([\n",
    "    transforms.RandomHorizontalFlip(p=0.5),\n",
    "    transforms.RandomVerticalFlip(p=0.5),\n",
    "    transforms.ToTensor(),\n",
    "    transforms.Normalize([0.485,0.456,0.406],[0.229,0.224,0.225])     #[평균],[분산]\n",
    "])    #RandomHorizontalFlip.. 뿐만 아니라 rotation, cropping 등 다른 augumentation방법도 사용가능\n",
    "transforms_test = transforms.Compose([\n",
    "    transforms.ToTensor(),\n",
    "    transforms.Normalize([0.485,0.456,0.406],[0.229,0.224,0.225])\n",
    "])"
   ]
  },
  {
   "cell_type": "code",
   "execution_count": 16,
   "id": "902d7603",
   "metadata": {},
   "outputs": [
    {
     "ename": "TypeError",
     "evalue": " expected at least 1 argument, got 0",
     "output_type": "error",
     "traceback": [
      "\u001b[1;31m---------------------------------------------------------------------------\u001b[0m",
      "\u001b[1;31mTypeError\u001b[0m                                 Traceback (most recent call last)",
      "\u001b[1;32m~\\AppData\\Local\\Temp/ipykernel_12708/3555759156.py\u001b[0m in \u001b[0;36m<module>\u001b[1;34m\u001b[0m\n\u001b[0;32m      1\u001b[0m \u001b[1;31m#사용자 데이터셋 불러오기\u001b[0m\u001b[1;33m\u001b[0m\u001b[1;33m\u001b[0m\u001b[1;33m\u001b[0m\u001b[0m\n\u001b[1;32m----> 2\u001b[1;33m \u001b[0mtrainset\u001b[0m \u001b[1;33m=\u001b[0m \u001b[0mDataset\u001b[0m\u001b[1;33m(\u001b[0m\u001b[1;34m'data/train'\u001b[0m\u001b[1;33m,\u001b[0m \u001b[1;34m'data/train.csv'\u001b[0m\u001b[1;33m,\u001b[0m \u001b[0mtransforms_train\u001b[0m\u001b[1;33m)\u001b[0m\u001b[1;33m\u001b[0m\u001b[1;33m\u001b[0m\u001b[0m\n\u001b[0m\u001b[0;32m      3\u001b[0m \u001b[0mtestset\u001b[0m \u001b[1;33m=\u001b[0m \u001b[0mDataset\u001b[0m\u001b[1;33m(\u001b[0m\u001b[1;34m'data/test'\u001b[0m\u001b[1;33m,\u001b[0m \u001b[1;34m'data/test.csv'\u001b[0m\u001b[1;33m,\u001b[0m \u001b[0mtransforms_test\u001b[0m\u001b[1;33m)\u001b[0m\u001b[1;33m\u001b[0m\u001b[1;33m\u001b[0m\u001b[0m\n\u001b[0;32m      4\u001b[0m \u001b[1;33m\u001b[0m\u001b[0m\n\u001b[0;32m      5\u001b[0m \u001b[0mtrain_loader\u001b[0m\u001b[1;33m(\u001b[0m\u001b[0mDataLoader\u001b[0m\u001b[1;33m(\u001b[0m\u001b[0mtrainset\u001b[0m\u001b[1;33m,\u001b[0m \u001b[0mbatch_size\u001b[0m \u001b[1;33m=\u001b[0m \u001b[1;36m256\u001b[0m\u001b[1;33m,\u001b[0m \u001b[0mnum_workers\u001b[0m\u001b[1;33m=\u001b[0m\u001b[1;36m0\u001b[0m\u001b[1;33m)\u001b[0m\u001b[1;33m)\u001b[0m\u001b[1;33m\u001b[0m\u001b[1;33m\u001b[0m\u001b[0m\n",
      "\u001b[1;32m~\\AppData\\Local\\Temp/ipykernel_12708/4168817939.py\u001b[0m in \u001b[0;36m__init__\u001b[1;34m(self, dir, image_ids, transforms)\u001b[0m\n\u001b[0;32m      7\u001b[0m         \u001b[0mself\u001b[0m\u001b[1;33m.\u001b[0m\u001b[0mlabels\u001b[0m \u001b[1;33m=\u001b[0m \u001b[1;33m[\u001b[0m\u001b[1;33m]\u001b[0m\u001b[1;33m\u001b[0m\u001b[1;33m\u001b[0m\u001b[0m\n\u001b[0;32m      8\u001b[0m         \u001b[1;32mwith\u001b[0m \u001b[0mopen\u001b[0m\u001b[1;33m(\u001b[0m\u001b[0mimage_ids\u001b[0m\u001b[1;33m,\u001b[0m \u001b[1;34m'r'\u001b[0m\u001b[1;33m)\u001b[0m \u001b[1;32mas\u001b[0m \u001b[0mf\u001b[0m\u001b[1;33m:\u001b[0m\u001b[1;33m\u001b[0m\u001b[1;33m\u001b[0m\u001b[0m\n\u001b[1;32m----> 9\u001b[1;33m             \u001b[0mreader\u001b[0m \u001b[1;33m=\u001b[0m \u001b[0mcsv\u001b[0m\u001b[1;33m.\u001b[0m\u001b[0mreader\u001b[0m\u001b[1;33m(\u001b[0m\u001b[1;33m)\u001b[0m\u001b[1;33m\u001b[0m\u001b[1;33m\u001b[0m\u001b[0m\n\u001b[0m\u001b[0;32m     10\u001b[0m             \u001b[0mnext\u001b[0m\u001b[1;33m(\u001b[0m\u001b[0mreader\u001b[0m\u001b[1;33m)\u001b[0m\u001b[1;33m\u001b[0m\u001b[1;33m\u001b[0m\u001b[0m\n\u001b[0;32m     11\u001b[0m             \u001b[1;32mfor\u001b[0m \u001b[0mrow\u001b[0m \u001b[1;32min\u001b[0m \u001b[0mreader\u001b[0m\u001b[1;33m:\u001b[0m\u001b[1;33m\u001b[0m\u001b[1;33m\u001b[0m\u001b[0m\n",
      "\u001b[1;31mTypeError\u001b[0m:  expected at least 1 argument, got 0"
     ]
    }
   ],
   "source": [
    "#사용자 데이터셋 불러오기\n",
    "trainset = Dataset('data/train', 'data/train.csv', transforms_train)\n",
    "testset = Dataset('data/test', 'data/test.csv', transforms_test)\n",
    "\n",
    "train_loader(DataLoader(trainset, batch_size = 256, num_workers=0))\n",
    "test_loader(DataLoader(testset, batch_size = 32, num_workers=0))"
   ]
  },
  {
   "cell_type": "code",
   "execution_count": 12,
   "id": "0fa3bf66",
   "metadata": {},
   "outputs": [
    {
     "name": "stderr",
     "output_type": "stream",
     "text": [
      "Downloading: \"https://download.pytorch.org/models/resnet50-0676ba61.pth\" to C:\\Users\\03/.cache\\torch\\hub\\checkpoints\\resnet50-0676ba61.pth\n",
      "24.0%IOPub message rate exceeded.\n",
      "The notebook server will temporarily stop sending output\n",
      "to the client in order to avoid crashing it.\n",
      "To change this limit, set the config variable\n",
      "`--NotebookApp.iopub_msg_rate_limit`.\n",
      "\n",
      "Current values:\n",
      "NotebookApp.iopub_msg_rate_limit=1000.0 (msgs/sec)\n",
      "NotebookApp.rate_limit_window=3.0 (secs)\n",
      "\n",
      "70.8%IOPub message rate exceeded.\n",
      "The notebook server will temporarily stop sending output\n",
      "to the client in order to avoid crashing it.\n",
      "To change this limit, set the config variable\n",
      "`--NotebookApp.iopub_msg_rate_limit`.\n",
      "\n",
      "Current values:\n",
      "NotebookApp.iopub_msg_rate_limit=1000.0 (msgs/sec)\n",
      "NotebookApp.rate_limit_window=3.0 (secs)\n",
      "\n",
      "100.0%\n"
     ]
    },
    {
     "name": "stdout",
     "output_type": "stream",
     "text": [
      "===============================================================================================\n",
      "Layer (type:depth-idx)                        Output Shape              Param #\n",
      "===============================================================================================\n",
      "Model                                         --                        --\n",
      "├─ResNet: 1-1                                 [1, 1000]                 --\n",
      "│    └─Conv2d: 2-1                            [1, 64, 128, 128]         9,408\n",
      "│    └─BatchNorm2d: 2-2                       [1, 64, 128, 128]         128\n",
      "│    └─ReLU: 2-3                              [1, 64, 128, 128]         --\n",
      "│    └─MaxPool2d: 2-4                         [1, 64, 64, 64]           --\n",
      "│    └─Sequential: 2-5                        [1, 256, 64, 64]          --\n",
      "│    │    └─Bottleneck: 3-1                   [1, 256, 64, 64]          75,008\n",
      "│    │    └─Bottleneck: 3-2                   [1, 256, 64, 64]          70,400\n",
      "│    │    └─Bottleneck: 3-3                   [1, 256, 64, 64]          70,400\n",
      "│    └─Sequential: 2-6                        [1, 512, 32, 32]          --\n",
      "│    │    └─Bottleneck: 3-4                   [1, 512, 32, 32]          379,392\n",
      "│    │    └─Bottleneck: 3-5                   [1, 512, 32, 32]          280,064\n",
      "│    │    └─Bottleneck: 3-6                   [1, 512, 32, 32]          280,064\n",
      "│    │    └─Bottleneck: 3-7                   [1, 512, 32, 32]          280,064\n",
      "│    └─Sequential: 2-7                        [1, 1024, 16, 16]         --\n",
      "│    │    └─Bottleneck: 3-8                   [1, 1024, 16, 16]         1,512,448\n",
      "│    │    └─Bottleneck: 3-9                   [1, 1024, 16, 16]         1,117,184\n",
      "│    │    └─Bottleneck: 3-10                  [1, 1024, 16, 16]         1,117,184\n",
      "│    │    └─Bottleneck: 3-11                  [1, 1024, 16, 16]         1,117,184\n",
      "│    │    └─Bottleneck: 3-12                  [1, 1024, 16, 16]         1,117,184\n",
      "│    │    └─Bottleneck: 3-13                  [1, 1024, 16, 16]         1,117,184\n",
      "│    └─Sequential: 2-8                        [1, 2048, 8, 8]           --\n",
      "│    │    └─Bottleneck: 3-14                  [1, 2048, 8, 8]           6,039,552\n",
      "│    │    └─Bottleneck: 3-15                  [1, 2048, 8, 8]           4,462,592\n",
      "│    │    └─Bottleneck: 3-16                  [1, 2048, 8, 8]           4,462,592\n",
      "│    └─AdaptiveAvgPool2d: 2-9                 [1, 2048, 1, 1]           --\n",
      "│    └─Linear: 2-10                           [1, 1000]                 2,049,000\n",
      "├─Linear: 1-2                                 [1, 26]                   26,026\n",
      "===============================================================================================\n",
      "Total params: 25,583,058\n",
      "Trainable params: 25,583,058\n",
      "Non-trainable params: 0\n",
      "Total mult-adds (G): 5.34\n",
      "===============================================================================================\n",
      "Input size (MB): 0.79\n",
      "Forward/backward pass size (MB): 232.27\n",
      "Params size (MB): 102.33\n",
      "Estimated Total Size (MB): 335.39\n",
      "===============================================================================================\n"
     ]
    }
   ],
   "source": [
    "#pretrained된 resnet50 네트워크 불러오기\n",
    "\n",
    "class Model(nn.Module):\n",
    "    def __init__(self):\n",
    "        super().__init__()\n",
    "        self.resnet=(resnet50(pretrained=True))\n",
    "        self.classifier = nn.Linear(1000,26)\n",
    "        \n",
    "    def forward(self, x):\n",
    "        x = self.resnet(x)\n",
    "        x = self.classifier(x)\n",
    "        \n",
    "        return x\n",
    "\n",
    "#GPU가속화를 위한 코드\n",
    "device = torch.device('cuda' if torch.cuda.is_available() else 'cpu')\n",
    "\n",
    "model = Model().to(device)\n",
    "print(summary(model, input_size=(1,3,256,256), verbose = 0))\n",
    "# .pth : 저장된 모델의 확장자"
   ]
  },
  {
   "cell_type": "code",
   "execution_count": 14,
   "id": "9a3b3b8d",
   "metadata": {},
   "outputs": [
    {
     "ename": "NameError",
     "evalue": "name 'train_loader' is not defined",
     "output_type": "error",
     "traceback": [
      "\u001b[1;31m---------------------------------------------------------------------------\u001b[0m",
      "\u001b[1;31mNameError\u001b[0m                                 Traceback (most recent call last)",
      "\u001b[1;32m~\\AppData\\Local\\Temp/ipykernel_12708/1606927611.py\u001b[0m in \u001b[0;36m<module>\u001b[1;34m\u001b[0m\n\u001b[0;32m      7\u001b[0m \u001b[1;33m\u001b[0m\u001b[0m\n\u001b[0;32m      8\u001b[0m \u001b[1;32mfor\u001b[0m \u001b[0mepoch\u001b[0m \u001b[1;32min\u001b[0m \u001b[0mrange\u001b[0m\u001b[1;33m(\u001b[0m\u001b[0mnum_epochs\u001b[0m\u001b[1;33m)\u001b[0m\u001b[1;33m:\u001b[0m\u001b[1;33m\u001b[0m\u001b[1;33m\u001b[0m\u001b[0m\n\u001b[1;32m----> 9\u001b[1;33m     \u001b[1;32mfor\u001b[0m \u001b[0mi\u001b[0m\u001b[1;33m,\u001b[0m \u001b[1;33m(\u001b[0m\u001b[0mimages\u001b[0m\u001b[1;33m,\u001b[0m \u001b[0mtargets\u001b[0m\u001b[1;33m)\u001b[0m \u001b[1;32min\u001b[0m \u001b[0menumerate\u001b[0m\u001b[1;33m(\u001b[0m\u001b[0mtrain_loader\u001b[0m\u001b[1;33m)\u001b[0m\u001b[1;33m:\u001b[0m\u001b[1;33m\u001b[0m\u001b[1;33m\u001b[0m\u001b[0m\n\u001b[0m\u001b[0;32m     10\u001b[0m         \u001b[0moptimizer\u001b[0m\u001b[1;33m.\u001b[0m\u001b[0mzero_grad\u001b[0m\u001b[1;33m(\u001b[0m\u001b[1;33m)\u001b[0m\u001b[1;33m\u001b[0m\u001b[1;33m\u001b[0m\u001b[0m\n\u001b[0;32m     11\u001b[0m \u001b[1;33m\u001b[0m\u001b[0m\n",
      "\u001b[1;31mNameError\u001b[0m: name 'train_loader' is not defined"
     ]
    }
   ],
   "source": [
    "#학습을 위한 코드\n",
    "optimizer = optim.Adam(model.parameters(), lr=1e-3)\n",
    "criterion = nn.MultiLabelSoftMarginLoss()\n",
    "\n",
    "num_epochs = 100\n",
    "model.train()\n",
    "\n",
    "for epoch in range(num_epochs):\n",
    "    for i, (images, targets) in enumerate(train_loader):\n",
    "        optimizer.zero_grad()\n",
    "        \n",
    "        images = images.to(device)\n",
    "        targets = targets.to(device)\n",
    "        \n",
    "        outputs = model(images)\n",
    "        loss = criterion(outputs, targets)\n",
    "        \n",
    "        loss.backward()\n",
    "        optimizer.step()\n",
    "        \n",
    "        if (i+1) % 10 == 0:\n",
    "            outputs = outputs>0.5\n",
    "            acc = (outputs == targets).float().mean()\n",
    "            print(f'{epoch}:{loss.item():.5f},{acc.item():.5f}')"
   ]
  },
  {
   "cell_type": "code",
   "execution_count": null,
   "id": "5acbf8b1",
   "metadata": {},
   "outputs": [],
   "source": [
    "#사용해보지 않았던 csv파일을 사용, pretrained된 모델 불러오는 방법"
   ]
  }
 ],
 "metadata": {
  "kernelspec": {
   "display_name": "Python 3 (ipykernel)",
   "language": "python",
   "name": "python3"
  },
  "language_info": {
   "codemirror_mode": {
    "name": "ipython",
    "version": 3
   },
   "file_extension": ".py",
   "mimetype": "text/x-python",
   "name": "python",
   "nbconvert_exporter": "python",
   "pygments_lexer": "ipython3",
   "version": "3.8.12"
  }
 },
 "nbformat": 4,
 "nbformat_minor": 5
}
