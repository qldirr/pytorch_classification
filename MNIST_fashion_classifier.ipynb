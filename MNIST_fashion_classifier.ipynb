{
 "cells": [
  {
   "cell_type": "code",
   "execution_count": 16,
   "id": "d911ab8c",
   "metadata": {},
   "outputs": [],
   "source": [
    "import torch\n",
    "import torch.nn as nn\n",
    "from torch.autograd import Variable\n",
    "\n",
    "import numpy as np\n",
    "import pandas as pd\n",
    "import matplotlib.pyplot as plt\n",
    "\n",
    "import torchvision\n",
    "import torchvision.transforms as transforms\n",
    "from torch.utils.data import Dataset, DataLoader\n",
    "from sklearn.metrics import confusion_matrix"
   ]
  },
  {
   "cell_type": "code",
   "execution_count": 17,
   "id": "5eb41111",
   "metadata": {},
   "outputs": [],
   "source": [
    "device = torch.device('cuda:0' if torch.cuda.is_available() else 'cpu')"
   ]
  },
  {
   "cell_type": "code",
   "execution_count": 18,
   "id": "b3263b04",
   "metadata": {},
   "outputs": [],
   "source": [
    "train_set = torchvision.datasets.FashionMNIST('./data', download=True, transform=transforms.Compose([transforms.ToTensor()]))\n",
    "\n",
    "test_set = torchvision.datasets.FashionMNIST('./data', download=True, train=False, transform=transforms.Compose([transforms.ToTensor()]))"
   ]
  },
  {
   "cell_type": "code",
   "execution_count": 19,
   "id": "6bb6d946",
   "metadata": {},
   "outputs": [],
   "source": [
    "#train_loader, test_loader 불러오기\n",
    "train_loader = torch.utils.data.DataLoader(train_set, batch_size = 100)\n",
    "test_loader = torch.utils.data.DataLoader(test_set, batch_size = 100)\n"
   ]
  },
  {
   "cell_type": "code",
   "execution_count": 20,
   "id": "f7a34ec6",
   "metadata": {},
   "outputs": [],
   "source": [
    "#데이터셋에 대한 라벨링\n",
    "def output_label(label):\n",
    "    output_mapping = {0:'T-shirt/Top',\n",
    "                      1:'Trouser',\n",
    "                      2:'Pullover',\n",
    "                      3:'Dress',\n",
    "                      4:'Coat',\n",
    "                      5:'Sandal',\n",
    "                      6:'Shirt',\n",
    "                      7:'Sneaker',\n",
    "                      8:'Bag',\n",
    "                      9:'Ankle Boot'}\n",
    "    input = (label.item() if type(label) == torch.Tensor else label)\n",
    "    return output_mapping[input]"
   ]
  },
  {
   "cell_type": "code",
   "execution_count": 21,
   "id": "d5909708",
   "metadata": {},
   "outputs": [
    {
     "data": {
      "text/plain": [
       "torch.Size([100, 1, 28, 28])"
      ]
     },
     "execution_count": 21,
     "metadata": {},
     "output_type": "execute_result"
    }
   ],
   "source": [
    "a=next(iter(train_loader))\n",
    "a[0].size()"
   ]
  },
  {
   "cell_type": "code",
   "execution_count": 22,
   "id": "32763652",
   "metadata": {},
   "outputs": [
    {
     "data": {
      "text/plain": [
       "60000"
      ]
     },
     "execution_count": 22,
     "metadata": {},
     "output_type": "execute_result"
    }
   ],
   "source": [
    "len(train_set)"
   ]
  },
  {
   "cell_type": "code",
   "execution_count": 23,
   "id": "da8edbad",
   "metadata": {},
   "outputs": [
    {
     "data": {
      "text/plain": [
       "10000"
      ]
     },
     "execution_count": 23,
     "metadata": {},
     "output_type": "execute_result"
    }
   ],
   "source": [
    "len(test_set)"
   ]
  },
  {
   "cell_type": "code",
   "execution_count": 24,
   "id": "b35c7391",
   "metadata": {},
   "outputs": [
    {
     "name": "stdout",
     "output_type": "stream",
     "text": [
      "9\n"
     ]
    },
    {
     "data": {
      "image/png": "[encoded data removed]",
      "text/plain": [
       "<Figure size 432x288 with 1 Axes>"
      ]
     },
     "metadata": {
      "needs_background": "light"
     },
     "output_type": "display_data"
    }
   ],
   "source": [
    "#데이터셋이 어떤 데이터셋을 가지고 있는지 시각화, matplotlib 사용\n",
    "image, label = next(iter(train_set))\n",
    "plt.imshow(image.squeeze(), cmap='gray')\n",
    "print(label)"
   ]
  },
  {
   "cell_type": "code",
   "execution_count": 35,
   "id": "7735a598",
   "metadata": {},
   "outputs": [],
   "source": [
    "#CNN 모델 구성\n",
    "class CNN(nn.Module):   \n",
    "    def __init__(self):   \n",
    "        super(CNN, self).__init__()\n",
    "        self.layer1 = nn.Sequential(nn.Conv2d(in_channels=1,out_channels=32,kernel_size=3,padding=1),\n",
    "                                    nn.BatchNorm2d(32), nn.ReLU(), nn.MaxPool2d(kernel_size=2, stride=2))\n",
    "        \n",
    "        self.layer2 = nn.Sequential(nn.Conv2d(in_channels=32,out_channels=64,kernel_size=3),\n",
    "                                    nn.BatchNorm2d(64), nn.ReLU(), nn.MaxPool2d(2))\n",
    "        \n",
    "        self.fc1 = nn.Linear(in_features=6*6*64, out_features=600)\n",
    "        self.drop = nn.Dropout2d(0.25)\n",
    "        self.fc2 = nn.Linear(in_features=600, out_features=120)\n",
    "        self.fc3 = nn.Linear(in_features=120, out_features=10)\n",
    "        \n",
    "    def forward(self,x):   \n",
    "        out = self.layer1(x)\n",
    "        out = self.layer2(out)\n",
    "        out = out.view(out.size(0),-1)\n",
    "        out = self.fc1(out)\n",
    "        out = self.drop(out)\n",
    "        out = self.fc2(out)\n",
    "        out = self.fc3(out)\n",
    "        \n",
    "        return out\n",
    "        \n",
    "        "
   ]
  },
  {
   "cell_type": "code",
   "execution_count": 36,
   "id": "96c246c3",
   "metadata": {},
   "outputs": [
    {
     "name": "stdout",
     "output_type": "stream",
     "text": [
      "CNN(\n",
      "  (layer1): Sequential(\n",
      "    (0): Conv2d(1, 32, kernel_size=(3, 3), stride=(1, 1), padding=(1, 1))\n",
      "    (1): BatchNorm2d(32, eps=1e-05, momentum=0.1, affine=True, track_running_stats=True)\n",
      "    (2): ReLU()\n",
      "    (3): MaxPool2d(kernel_size=2, stride=2, padding=0, dilation=1, ceil_mode=False)\n",
      "  )\n",
      "  (layer2): Sequential(\n",
      "    (0): Conv2d(32, 64, kernel_size=(3, 3), stride=(1, 1))\n",
      "    (1): BatchNorm2d(64, eps=1e-05, momentum=0.1, affine=True, track_running_stats=True)\n",
      "    (2): ReLU()\n",
      "    (3): MaxPool2d(kernel_size=2, stride=2, padding=0, dilation=1, ceil_mode=False)\n",
      "  )\n",
      "  (fc1): Linear(in_features=2304, out_features=600, bias=True)\n",
      "  (drop): Dropout2d(p=0.25, inplace=False)\n",
      "  (fc2): Linear(in_features=600, out_features=120, bias=True)\n",
      "  (fc3): Linear(in_features=120, out_features=10, bias=True)\n",
      ")\n"
     ]
    }
   ],
   "source": [
    "#모델 구조 파악\n",
    "model = CNN()\n",
    "model.to(device)   #GPU연산이 가능하도록 to(device)\n",
    "\n",
    "error = nn.CrossEntropyLoss()\n",
    "\n",
    "learning_rate = 0.001\n",
    "optimizer = torch.optim.Adam(model.parameters(), lr=learning_rate)\n",
    "print(model)"
   ]
  },
  {
   "cell_type": "code",
   "execution_count": 38,
   "id": "5e265098",
   "metadata": {},
   "outputs": [
    {
     "name": "stdout",
     "output_type": "stream",
     "text": [
      "Iteration:500, Loss:2.366424798965454, Accuracy:11.420000076293945%\n",
      "Iteration:1000, Loss:2.3092801570892334, Accuracy:10.670000076293945%\n",
      "Iteration:1500, Loss:2.291337251663208, Accuracy:11.210000038146973%\n",
      "Iteration:2000, Loss:2.278810501098633, Accuracy:11.15999984741211%\n",
      "Iteration:2500, Loss:2.285735845565796, Accuracy:10.670000076293945%\n",
      "Iteration:3000, Loss:2.3055238723754883, Accuracy:11.359999656677246%\n",
      "Iteration:3500, Loss:2.377255916595459, Accuracy:11.079999923706055%\n",
      "Iteration:4000, Loss:2.3361663818359375, Accuracy:11.15999984741211%\n",
      "Iteration:4500, Loss:2.2670228481292725, Accuracy:11.15999984741211%\n",
      "Iteration:5000, Loss:2.2701921463012695, Accuracy:11.300000190734863%\n",
      "Iteration:5500, Loss:2.3063533306121826, Accuracy:10.75999927520752%\n",
      "Iteration:6000, Loss:2.3039722442626953, Accuracy:11.729999542236328%\n",
      "Iteration:6500, Loss:2.3619463443756104, Accuracy:11.1899995803833%\n",
      "Iteration:7000, Loss:2.321225643157959, Accuracy:11.170000076293945%\n",
      "Iteration:7500, Loss:2.260934352874756, Accuracy:10.989999771118164%\n",
      "Iteration:8000, Loss:2.273014783859253, Accuracy:11.619999885559082%\n",
      "Iteration:8500, Loss:2.3261585235595703, Accuracy:11.050000190734863%\n",
      "Iteration:9000, Loss:2.2955679893493652, Accuracy:11.269999504089355%\n"
     ]
    }
   ],
   "source": [
    "#training\n",
    "\n",
    "num_epochs = 15\n",
    "count = 0\n",
    "\n",
    "#실행에 필요한 loss, iteration, accuracy 시각화를 위해 list형태로 초기화\n",
    "loss_list=[]\n",
    "iteration_list=[]\n",
    "accuracy_list=[]\n",
    "\n",
    "predictions_list=[]\n",
    "labels_list=[]\n",
    "\n",
    "#epoch만큼 반복훈련 실행\n",
    "for epoch in range(num_epochs):\n",
    "    for images, labels in train_loader:\n",
    "        images, labels = images.to(device), labels.to(device)\n",
    "        \n",
    "        train = Variable(images.view(100,1,28,28))\n",
    "        labels = Variable(labels)\n",
    "        \n",
    "        outputs = model(train)\n",
    "        loss = error(outputs, labels)\n",
    "        \n",
    "        optimizer.zero_grad()\n",
    "        \n",
    "        loss.backward()\n",
    "        \n",
    "        count+=1\n",
    "        \n",
    "        if not (count%50):\n",
    "            total = 0\n",
    "            correct = 0\n",
    "            \n",
    "            for images, labels in test_loader:\n",
    "                images, labels = images.to(device), labels.to(device)\n",
    "                labels_list.append(labels)\n",
    "                \n",
    "                test = Variable(images.view(100,1,28,28))\n",
    "                \n",
    "                outputs = model(test)\n",
    "                \n",
    "                predictions = torch.max(outputs,1)[1].to(device)\n",
    "                predictions_list.append(predictions)\n",
    "                correct += (predictions == labels).sum()\n",
    "                \n",
    "                total += len(labels)\n",
    "                \n",
    "            accuracy = correct * 100/ total\n",
    "            loss_list.append(loss.data)\n",
    "            iteration_list.append(count)\n",
    "            accuracy_list.append(accuracy)\n",
    "        \n",
    "        if not (count % 500):\n",
    "            print('Iteration:{}, Loss:{}, Accuracy:{}%'.format(count, loss.data, accuracy))"
   ]
  },
  {
   "cell_type": "code",
   "execution_count": 39,
   "id": "1a1ff5c3",
   "metadata": {},
   "outputs": [
    {
     "name": "stdout",
     "output_type": "stream",
     "text": [
      "Accuracy of T-shirt/Top : 0.00%\n",
      "Accuracy of Trouser : 32.60%\n",
      "Accuracy of Pullover : 8.40%\n",
      "Accuracy of Dress : 26.60%\n",
      "Accuracy of Coat : 21.40%\n",
      "Accuracy of Sandal : 0.20%\n",
      "Accuracy of Shirt : 0.00%\n",
      "Accuracy of Sneaker : 2.10%\n",
      "Accuracy of Bag : 21.50%\n",
      "Accuracy of Ankle Boot : 0.00%\n"
     ]
    }
   ],
   "source": [
    "class_correct = [0. for _ in range(10)]\n",
    "total_correct = [0. for _ in range(10)]\n",
    "\n",
    "with torch.no_grad():\n",
    "    for images, labels in test_loader:\n",
    "        images, labels = images.to(device), labels.to(device)\n",
    "        test = Variable(images)\n",
    "        outputs = model(test)\n",
    "        predicted = torch.max(outputs,1)[1]\n",
    "        c = (predicted == labels).squeeze()\n",
    "        \n",
    "        for i in range(100):\n",
    "            label = labels[i]\n",
    "            class_correct[label] += c[i].item()\n",
    "            total_correct[label] += 1\n",
    "for i in range(10):\n",
    "    print('Accuracy of {} : {:.2f}%'.format(output_label(i), class_correct[i]*100/total_correct[i]))"
   ]
  },
  {
   "cell_type": "code",
   "execution_count": null,
   "id": "60d32d50",
   "metadata": {},
   "outputs": [],
   "source": []
  }
 ],
 "metadata": {
  "kernelspec": {
   "display_name": "Python 3 (ipykernel)",
   "language": "python",
   "name": "python3"
  },
  "language_info": {
   "codemirror_mode": {
    "name": "ipython",
    "version": 3
   },
   "file_extension": ".py",
   "mimetype": "text/x-python",
   "name": "python",
   "nbconvert_exporter": "python",
   "pygments_lexer": "ipython3",
   "version": "3.8.12"
  }
 },
 "nbformat": 4,
 "nbformat_minor": 5
}
