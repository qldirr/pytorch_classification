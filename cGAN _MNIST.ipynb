{
 "cells": [
  {
   "cell_type": "code",
   "execution_count": 1,
   "id": "324431a6",
   "metadata": {},
   "outputs": [],
   "source": [
    "import torchvision.datasets as datasets\n",
    "import os\n",
    "import torchvision.transforms as transforms\n",
    "from torch.utils.data import DataLoader\n",
    "from torchvision import utils\n",
    "import matplotlib.pyplot as plt\n",
    "import numpy as np\n",
    "import torch.nn as nn\n",
    "import torch\n",
    "import torch.nn.functional as F\n",
    "import time\n",
    "%matplotlib inline\n",
    "\n",
    "device = torch.device('cuda' if torch.cuda.is_available() else 'cpu')"
   ]
  },
  {
   "cell_type": "code",
   "execution_count": 2,
   "id": "b629a66d",
   "metadata": {},
   "outputs": [
    {
     "name": "stdout",
     "output_type": "stream",
     "text": [
      "Downloading http://yann.lecun.com/exdb/mnist/train-images-idx3-ubyte.gz\n",
      "Downloading http://yann.lecun.com/exdb/mnist/train-images-idx3-ubyte.gz to ./data\\MNIST\\raw\\train-images-idx3-ubyte.gz\n"
     ]
    },
    {
     "data": {
      "application/vnd.jupyter.widget-view+json": {
       "model_id": "bb330e14f9fd42de9e479a4f80907fc9",
       "version_major": 2,
       "version_minor": 0
      },
      "text/plain": [
       "  0%|          | 0/9912422 [00:00<?, ?it/s]"
      ]
     },
     "metadata": {},
     "output_type": "display_data"
    },
    {
     "name": "stdout",
     "output_type": "stream",
     "text": [
      "Extracting ./data\\MNIST\\raw\\train-images-idx3-ubyte.gz to ./data\\MNIST\\raw\n",
      "\n",
      "Downloading http://yann.lecun.com/exdb/mnist/train-labels-idx1-ubyte.gz\n",
      "Downloading http://yann.lecun.com/exdb/mnist/train-labels-idx1-ubyte.gz to ./data\\MNIST\\raw\\train-labels-idx1-ubyte.gz\n"
     ]
    },
    {
     "data": {
      "application/vnd.jupyter.widget-view+json": {
       "model_id": "eb1fe58f7f9044109bf6b9bd9f59b84b",
       "version_major": 2,
       "version_minor": 0
      },
      "text/plain": [
       "  0%|          | 0/28881 [00:00<?, ?it/s]"
      ]
     },
     "metadata": {},
     "output_type": "display_data"
    },
    {
     "name": "stdout",
     "output_type": "stream",
     "text": [
      "Extracting ./data\\MNIST\\raw\\train-labels-idx1-ubyte.gz to ./data\\MNIST\\raw\n",
      "\n",
      "Downloading http://yann.lecun.com/exdb/mnist/t10k-images-idx3-ubyte.gz\n",
      "Downloading http://yann.lecun.com/exdb/mnist/t10k-images-idx3-ubyte.gz to ./data\\MNIST\\raw\\t10k-images-idx3-ubyte.gz\n"
     ]
    },
    {
     "data": {
      "application/vnd.jupyter.widget-view+json": {
       "model_id": "3e568cdeae2b4b1d8638e24809716694",
       "version_major": 2,
       "version_minor": 0
      },
      "text/plain": [
       "  0%|          | 0/1648877 [00:00<?, ?it/s]"
      ]
     },
     "metadata": {},
     "output_type": "display_data"
    },
    {
     "name": "stdout",
     "output_type": "stream",
     "text": [
      "Extracting ./data\\MNIST\\raw\\t10k-images-idx3-ubyte.gz to ./data\\MNIST\\raw\n",
      "\n",
      "Downloading http://yann.lecun.com/exdb/mnist/t10k-labels-idx1-ubyte.gz\n",
      "Downloading http://yann.lecun.com/exdb/mnist/t10k-labels-idx1-ubyte.gz to ./data\\MNIST\\raw\\t10k-labels-idx1-ubyte.gz\n"
     ]
    },
    {
     "data": {
      "application/vnd.jupyter.widget-view+json": {
       "model_id": "b4a51c2132d842b4863301725f0c30cb",
       "version_major": 2,
       "version_minor": 0
      },
      "text/plain": [
       "  0%|          | 0/4542 [00:00<?, ?it/s]"
      ]
     },
     "metadata": {},
     "output_type": "display_data"
    },
    {
     "name": "stdout",
     "output_type": "stream",
     "text": [
      "Extracting ./data\\MNIST\\raw\\t10k-labels-idx1-ubyte.gz to ./data\\MNIST\\raw\n",
      "\n"
     ]
    }
   ],
   "source": [
    "# 데이터 경로 지정\n",
    "path2data = './data'\n",
    "os.makedirs(path2data, exist_ok=True)\n",
    "\n",
    "# Transformation 정의\n",
    "train_transform = transforms.Compose([\n",
    "                        transforms.ToTensor(),\n",
    "                        transforms.Normalize([0.5],[0.5]),\n",
    "])\n",
    "\n",
    "# MNIST dataset 불러오기\n",
    "train_ds = datasets.MNIST(path2data, train=True, transform=train_transform, download=True)"
   ]
  },
  {
   "cell_type": "code",
   "execution_count": 3,
   "id": "4c5fef70",
   "metadata": {},
   "outputs": [
    {
     "data": {
      "image/png": "[encoded data removed]",
      "text/plain": [
       "<Figure size 432x288 with 1 Axes>"
      ]
     },
     "metadata": {
      "needs_background": "light"
     },
     "output_type": "display_data"
    }
   ],
   "source": [
    "# 샘플 이미지 확인하기\n",
    "img, label = train_ds.data, train_ds.targets\n",
    "\n",
    "# 차원 추가\n",
    "if len(img.shape) == 3:\n",
    "    img = img.unsqueeze(1) # B*C*H*W\n",
    "\n",
    "# 그리드 생성\n",
    "img_grid = utils.make_grid(img[:40], nrow=8, padding=2)\n",
    "\n",
    "def show(img):\n",
    "    npimg = img.numpy()\n",
    "    npimg_tr = npimg.transpose((1,2,0)) # [C,H,W] -> [H,W,C]\n",
    "    plt.imshow(npimg_tr, interpolation='nearest')\n",
    "\n",
    "show(img_grid)"
   ]
  },
  {
   "cell_type": "code",
   "execution_count": 4,
   "id": "28c31261",
   "metadata": {},
   "outputs": [],
   "source": [
    "# 데이터 로더 생성\n",
    "train_dl = DataLoader(train_ds, batch_size=64, shuffle=True)"
   ]
  },
  {
   "cell_type": "code",
   "execution_count": 5,
   "id": "063f4634",
   "metadata": {},
   "outputs": [],
   "source": [
    "# 파라미터 설정\n",
    "params = {'num_classes':10,\n",
    "          'nz':100,\n",
    "          'input_size':(1,28,28)}"
   ]
  },
  {
   "cell_type": "code",
   "execution_count": 6,
   "id": "f5430906",
   "metadata": {},
   "outputs": [
    {
     "name": "stdout",
     "output_type": "stream",
     "text": [
      "torch.Size([16, 1, 28, 28])\n"
     ]
    }
   ],
   "source": [
    "# Generator: 가짜 이미지를 생성합니다.\n",
    "# noise와 label을 결합하여 학습합니다..\n",
    "\n",
    "class Generator(nn.Module):\n",
    "    def __init__(self, params):\n",
    "        super().__init__()\n",
    "        self.num_classes = params['num_classes'] # 클래스 수, 10\n",
    "        self.nz = params['nz'] # 노이즈 수, 100\n",
    "        self.input_size = params['input_size'] # (1,28,28)\n",
    "\n",
    "        # noise와 label을 결합할 용도인 label embedding matrix를 생성합니다.\n",
    "        self.label_emb = nn.Embedding(self.num_classes, self.num_classes)\n",
    "\n",
    "        self.gen = nn.Sequential(\n",
    "            nn.Linear(self.nz + self.num_classes, 128),\n",
    "            nn.LeakyReLU(0.2),\n",
    "            nn.Linear(128,256),\n",
    "            nn.BatchNorm1d(256),\n",
    "            nn.LeakyReLU(0.2),\n",
    "            nn.Linear(256,512),\n",
    "            nn.BatchNorm1d(512),\n",
    "            nn.LeakyReLU(0.2),\n",
    "            nn.Linear(512,1024),\n",
    "            nn.BatchNorm1d(1024),\n",
    "            nn.LeakyReLU(0.2),\n",
    "            nn.Linear(1024,int(np.prod(self.input_size))),\n",
    "            nn.Tanh()\n",
    "        )\n",
    "\n",
    "    def forward(self, noise, labels):\n",
    "        # noise와 label 결합\n",
    "        gen_input = torch.cat((self.label_emb(labels),noise),-1)\n",
    "        x = self.gen(gen_input)\n",
    "        x = x.view(x.size(0), *self.input_size)\n",
    "        return x\n",
    "\n",
    "# check\n",
    "x = torch.randn(16,100,device=device) # 노이즈\n",
    "label = torch.randint(0,10,(16,),device=device) # 레이블\n",
    "model_gen = Generator(params).to(device)\n",
    "out_gen = model_gen(x,label) # 가짜 이미지 생성\n",
    "print(out_gen.shape)"
   ]
  },
  {
   "cell_type": "code",
   "execution_count": 7,
   "id": "7a117859",
   "metadata": {},
   "outputs": [
    {
     "name": "stdout",
     "output_type": "stream",
     "text": [
      "torch.Size([16, 1])\n"
     ]
    }
   ],
   "source": [
    "# Discriminator: 가짜 이미지와 진짜 이미지를 식별합니다.\n",
    "class Discriminator(nn.Module):\n",
    "    def __init__(self,params):\n",
    "        super().__init__()\n",
    "        self.input_size = params['input_size']\n",
    "        self.num_classes = params['num_classes']\n",
    "\n",
    "        self.label_embedding = nn.Embedding(self.num_classes, self.num_classes)\n",
    "\n",
    "        self.dis = nn.Sequential(\n",
    "            nn.Linear(self.num_classes+int(np.prod(self.input_size)),512),\n",
    "            nn.LeakyReLU(0.2),\n",
    "            nn.Linear(512,512),\n",
    "            nn.Dropout(0.4),\n",
    "            nn.LeakyReLU(0.2),\n",
    "            nn.Linear(512,512),\n",
    "            nn.Dropout(0.4),\n",
    "            nn.LeakyReLU(0.2),\n",
    "            nn.Linear(512,1),\n",
    "            nn.Sigmoid()\n",
    "        )\n",
    "\n",
    "    def forward(self, img, labels):\n",
    "        # 이미지와 label 결합\n",
    "        dis_input = torch.cat((img.view(img.size(0),-1),self.label_embedding(labels)),-1)\n",
    "\n",
    "        x = self.dis(dis_input)\n",
    "        return x\n",
    "\n",
    "# check\n",
    "x = torch.randn(16,1,28,28,device=device)\n",
    "label = torch.randint(0,10,(16,), device=device)\n",
    "model_dis = Discriminator(params).to(device)\n",
    "out_dis = model_dis(x,label)\n",
    "print(out_dis.shape)"
   ]
  },
  {
   "cell_type": "code",
   "execution_count": 8,
   "id": "12a4515a",
   "metadata": {},
   "outputs": [],
   "source": [
    "# 가중치 초기화\n",
    "def initialize_weights(model):\n",
    "    classname = model.__class__.__name__\n",
    "    # fc layer\n",
    "    if classname.find('Linear') != -1:\n",
    "        nn.init.normal_(model.weight.data, 0.0, 0.02)\n",
    "        nn.init.constant_(model.bias.data, 0)\n",
    "    # batchnorm\n",
    "    elif classname.find('BatchNorm') != -1:\n",
    "        nn.init.normal_(model.weight.data, 1.0, 0.02)\n",
    "        nn.init.constant_(model.bias.data, 0)\n",
    "\n",
    "# 가중치 초기화 적용\n",
    "model_gen.apply(initialize_weights);\n",
    "model_dis.apply(initialize_weights);"
   ]
  },
  {
   "cell_type": "code",
   "execution_count": 9,
   "id": "9cc1ad10",
   "metadata": {},
   "outputs": [],
   "source": [
    "# 손실 함수\n",
    "loss_func = nn.BCELoss()\n",
    "\n",
    "from torch import optim\n",
    "\n",
    "lr = 2e-4\n",
    "beta1 = 0.5\n",
    "beta2 = 0.999\n",
    "\n",
    "# optimization\n",
    "opt_dis = optim.Adam(model_dis.parameters(), lr=lr, betas=(beta1,beta2))\n",
    "opt_gen = optim.Adam(model_gen.parameters(), lr=lr, betas=(beta1,beta2))\n",
    "\n",
    "# 학습 파라미터\n",
    "nz = params['nz']\n",
    "num_epochs = 100\n",
    "\n",
    "loss_history={'gen':[],\n",
    "              'dis':[]}"
   ]
  },
  {
   "cell_type": "code",
   "execution_count": 10,
   "id": "e91d6ab4",
   "metadata": {},
   "outputs": [
    {
     "name": "stdout",
     "output_type": "stream",
     "text": [
      "Epoch: 1, G_Loss: 0.613415, D_Loss: 0.564450, time: 0.26 min\n",
      "Epoch: 2, G_Loss: 0.955876, D_Loss: 0.441609, time: 0.51 min\n",
      "Epoch: 3, G_Loss: 1.133430, D_Loss: 0.437053, time: 0.77 min\n",
      "Epoch: 4, G_Loss: 1.066870, D_Loss: 0.346870, time: 1.03 min\n",
      "Epoch: 5, G_Loss: 0.517174, D_Loss: 0.611748, time: 1.28 min\n",
      "Epoch: 6, G_Loss: 2.419537, D_Loss: 0.601539, time: 1.54 min\n",
      "Epoch: 7, G_Loss: 1.350485, D_Loss: 0.442389, time: 1.79 min\n",
      "Epoch: 8, G_Loss: 1.765458, D_Loss: 0.355331, time: 2.05 min\n",
      "Epoch: 9, G_Loss: 1.819917, D_Loss: 0.452758, time: 2.30 min\n",
      "Epoch: 10, G_Loss: 1.640507, D_Loss: 0.366486, time: 2.56 min\n",
      "Epoch: 11, G_Loss: 1.100338, D_Loss: 0.532684, time: 2.82 min\n",
      "Epoch: 12, G_Loss: 1.768750, D_Loss: 0.442051, time: 3.07 min\n",
      "Epoch: 13, G_Loss: 1.537642, D_Loss: 0.329173, time: 3.33 min\n",
      "Epoch: 14, G_Loss: 1.888525, D_Loss: 0.294645, time: 3.59 min\n",
      "Epoch: 15, G_Loss: 1.407364, D_Loss: 0.319786, time: 3.84 min\n",
      "Epoch: 17, G_Loss: 1.696235, D_Loss: 0.391260, time: 4.10 min\n",
      "Epoch: 18, G_Loss: 0.797118, D_Loss: 0.525959, time: 4.36 min\n",
      "Epoch: 19, G_Loss: 2.332973, D_Loss: 0.299507, time: 4.61 min\n",
      "Epoch: 20, G_Loss: 1.586732, D_Loss: 0.268198, time: 4.87 min\n",
      "Epoch: 21, G_Loss: 2.477583, D_Loss: 0.216429, time: 5.13 min\n",
      "Epoch: 22, G_Loss: 2.675850, D_Loss: 0.271625, time: 5.38 min\n",
      "Epoch: 23, G_Loss: 2.760406, D_Loss: 0.257343, time: 5.64 min\n",
      "Epoch: 24, G_Loss: 2.058708, D_Loss: 0.203427, time: 5.90 min\n",
      "Epoch: 25, G_Loss: 2.003649, D_Loss: 0.288799, time: 6.16 min\n",
      "Epoch: 26, G_Loss: 3.365276, D_Loss: 0.375097, time: 6.41 min\n",
      "Epoch: 27, G_Loss: 2.797200, D_Loss: 0.241824, time: 6.67 min\n",
      "Epoch: 28, G_Loss: 1.968676, D_Loss: 0.296539, time: 6.93 min\n",
      "Epoch: 29, G_Loss: 2.824961, D_Loss: 0.214032, time: 7.19 min\n",
      "Epoch: 30, G_Loss: 2.929013, D_Loss: 0.224664, time: 7.44 min\n",
      "Epoch: 31, G_Loss: 2.427062, D_Loss: 0.290621, time: 7.70 min\n",
      "Epoch: 33, G_Loss: 2.503339, D_Loss: 0.236561, time: 7.96 min\n",
      "Epoch: 34, G_Loss: 2.305284, D_Loss: 0.314332, time: 8.22 min\n",
      "Epoch: 35, G_Loss: 2.879680, D_Loss: 0.192078, time: 8.47 min\n",
      "Epoch: 36, G_Loss: 1.751278, D_Loss: 0.287091, time: 8.73 min\n",
      "Epoch: 37, G_Loss: 2.115385, D_Loss: 0.532694, time: 8.99 min\n",
      "Epoch: 38, G_Loss: 1.646690, D_Loss: 0.393136, time: 9.25 min\n",
      "Epoch: 39, G_Loss: 2.282260, D_Loss: 0.186898, time: 9.50 min\n",
      "Epoch: 40, G_Loss: 2.131087, D_Loss: 0.237376, time: 9.76 min\n",
      "Epoch: 41, G_Loss: 2.191706, D_Loss: 0.256190, time: 10.02 min\n",
      "Epoch: 42, G_Loss: 2.094230, D_Loss: 0.203278, time: 10.27 min\n",
      "Epoch: 43, G_Loss: 1.692078, D_Loss: 0.381576, time: 10.53 min\n",
      "Epoch: 44, G_Loss: 2.713055, D_Loss: 0.289770, time: 10.79 min\n",
      "Epoch: 45, G_Loss: 2.699305, D_Loss: 0.321912, time: 11.05 min\n",
      "Epoch: 46, G_Loss: 1.774501, D_Loss: 0.343460, time: 11.30 min\n",
      "Epoch: 47, G_Loss: 1.884723, D_Loss: 0.312371, time: 11.56 min\n",
      "Epoch: 49, G_Loss: 2.683033, D_Loss: 0.343652, time: 11.82 min\n",
      "Epoch: 50, G_Loss: 2.754255, D_Loss: 0.255145, time: 12.08 min\n",
      "Epoch: 51, G_Loss: 2.289616, D_Loss: 0.411284, time: 12.35 min\n",
      "Epoch: 52, G_Loss: 2.522138, D_Loss: 0.342394, time: 12.61 min\n",
      "Epoch: 53, G_Loss: 2.281424, D_Loss: 0.271573, time: 12.87 min\n",
      "Epoch: 54, G_Loss: 1.607577, D_Loss: 0.521169, time: 13.13 min\n",
      "Epoch: 55, G_Loss: 2.942705, D_Loss: 0.323230, time: 13.38 min\n",
      "Epoch: 56, G_Loss: 2.072513, D_Loss: 0.356218, time: 13.64 min\n",
      "Epoch: 57, G_Loss: 1.934415, D_Loss: 0.334579, time: 13.90 min\n",
      "Epoch: 58, G_Loss: 2.929265, D_Loss: 0.257733, time: 14.16 min\n",
      "Epoch: 59, G_Loss: 2.149713, D_Loss: 0.324658, time: 14.42 min\n",
      "Epoch: 60, G_Loss: 2.447977, D_Loss: 0.327588, time: 14.68 min\n",
      "Epoch: 61, G_Loss: 1.987925, D_Loss: 0.300337, time: 14.93 min\n",
      "Epoch: 62, G_Loss: 1.943169, D_Loss: 0.322015, time: 15.19 min\n",
      "Epoch: 63, G_Loss: 2.638371, D_Loss: 0.216998, time: 15.45 min\n",
      "Epoch: 65, G_Loss: 1.758808, D_Loss: 0.279714, time: 15.71 min\n",
      "Epoch: 66, G_Loss: 1.728895, D_Loss: 0.298842, time: 15.96 min\n",
      "Epoch: 67, G_Loss: 1.997798, D_Loss: 0.395893, time: 16.22 min\n",
      "Epoch: 68, G_Loss: 1.942989, D_Loss: 0.376501, time: 16.48 min\n",
      "Epoch: 69, G_Loss: 2.360513, D_Loss: 0.299723, time: 16.74 min\n",
      "Epoch: 70, G_Loss: 2.237546, D_Loss: 0.381014, time: 16.99 min\n",
      "Epoch: 71, G_Loss: 2.197166, D_Loss: 0.342921, time: 17.25 min\n",
      "Epoch: 72, G_Loss: 2.618812, D_Loss: 0.354455, time: 17.51 min\n",
      "Epoch: 73, G_Loss: 1.789542, D_Loss: 0.373897, time: 17.76 min\n",
      "Epoch: 74, G_Loss: 3.225441, D_Loss: 0.244082, time: 18.02 min\n",
      "Epoch: 75, G_Loss: 2.252407, D_Loss: 0.317781, time: 18.28 min\n",
      "Epoch: 76, G_Loss: 2.574042, D_Loss: 0.347464, time: 18.54 min\n",
      "Epoch: 77, G_Loss: 3.048591, D_Loss: 0.285038, time: 18.80 min\n",
      "Epoch: 78, G_Loss: 2.112002, D_Loss: 0.354832, time: 19.05 min\n",
      "Epoch: 79, G_Loss: 2.406126, D_Loss: 0.303394, time: 19.31 min\n",
      "Epoch: 81, G_Loss: 1.118783, D_Loss: 0.419491, time: 19.57 min\n",
      "Epoch: 82, G_Loss: 3.461564, D_Loss: 0.305032, time: 19.83 min\n",
      "Epoch: 83, G_Loss: 2.688294, D_Loss: 0.326724, time: 20.08 min\n",
      "Epoch: 84, G_Loss: 2.178195, D_Loss: 0.373062, time: 20.34 min\n",
      "Epoch: 85, G_Loss: 2.599484, D_Loss: 0.243353, time: 20.60 min\n",
      "Epoch: 86, G_Loss: 2.061688, D_Loss: 0.292500, time: 20.86 min\n",
      "Epoch: 87, G_Loss: 2.274751, D_Loss: 0.294328, time: 21.11 min\n",
      "Epoch: 88, G_Loss: 1.846041, D_Loss: 0.364286, time: 21.37 min\n",
      "Epoch: 89, G_Loss: 2.267311, D_Loss: 0.252293, time: 21.63 min\n",
      "Epoch: 90, G_Loss: 1.677220, D_Loss: 0.398967, time: 21.89 min\n",
      "Epoch: 91, G_Loss: 2.352518, D_Loss: 0.385364, time: 22.15 min\n",
      "Epoch: 92, G_Loss: 2.536520, D_Loss: 0.255242, time: 22.40 min\n",
      "Epoch: 93, G_Loss: 2.704127, D_Loss: 0.352183, time: 22.66 min\n",
      "Epoch: 94, G_Loss: 2.702905, D_Loss: 0.328275, time: 22.92 min\n",
      "Epoch: 95, G_Loss: 2.104060, D_Loss: 0.336736, time: 23.18 min\n",
      "Epoch: 97, G_Loss: 2.413074, D_Loss: 0.245396, time: 23.43 min\n",
      "Epoch: 98, G_Loss: 2.032756, D_Loss: 0.386381, time: 23.69 min\n",
      "Epoch: 99, G_Loss: 2.264665, D_Loss: 0.267907, time: 23.95 min\n"
     ]
    }
   ],
   "source": [
    "# 학습\n",
    "batch_count = 0\n",
    "start_time = time.time()\n",
    "model_dis.train()\n",
    "model_gen.train()\n",
    "\n",
    "for epoch in range(num_epochs):\n",
    "    for xb, yb in train_dl:\n",
    "        ba_si = xb.shape[0]\n",
    "\n",
    "        xb = xb.to(device)\n",
    "        yb = yb.to(device)\n",
    "        yb_real = torch.Tensor(ba_si,1).fill_(1.0).to(device) # real_label\n",
    "        yb_fake = torch.Tensor(ba_si,1).fill_(0.0).to(device) # fake_label\n",
    "\n",
    "        # Genetator\n",
    "        model_gen.zero_grad()\n",
    "        noise = torch.randn(ba_si,100).to(device) # 노이즈 생성\n",
    "        gen_label = torch.randint(0,10,(ba_si,)).to(device) # label 생성\n",
    "\n",
    "        # 가짜 이미지 생성\n",
    "        out_gen = model_gen(noise, gen_label)\n",
    "\n",
    "        # 가짜 이미지 판별\n",
    "        out_dis = model_dis(out_gen, gen_label)\n",
    "\n",
    "        loss_gen = loss_func(out_dis, yb_real)\n",
    "        loss_gen.backward()\n",
    "        opt_gen.step()\n",
    "\n",
    "        # Discriminator\n",
    "        model_dis.zero_grad()\n",
    "        \n",
    "        # 진짜 이미지 판별\n",
    "        out_dis = model_dis(xb, yb)\n",
    "        loss_real = loss_func(out_dis, yb_real)\n",
    "\n",
    "        # 가짜 이미지 판별\n",
    "        out_dis = model_dis(out_gen.detach(),gen_label)\n",
    "        loss_fake = loss_func(out_dis,yb_fake)\n",
    "\n",
    "        loss_dis = (loss_real + loss_fake) / 2\n",
    "        loss_dis.backward()\n",
    "        opt_dis.step()\n",
    "\n",
    "        loss_history['gen'].append(loss_gen.item())\n",
    "        loss_history['dis'].append(loss_dis.item())\n",
    "\n",
    "        batch_count += 1\n",
    "        if batch_count % 1000 == 0:\n",
    "            print('Epoch: %.0f, G_Loss: %.6f, D_Loss: %.6f, time: %.2f min' %(epoch, loss_gen.item(), loss_dis.item(), (time.time()-start_time)/60))"
   ]
  },
  {
   "cell_type": "code",
   "execution_count": 11,
   "id": "a7e748aa",
   "metadata": {},
   "outputs": [
    {
     "data": {
      "image/png": "[encoded data removed]",
      "text/plain": [
       "<Figure size 720x360 with 1 Axes>"
      ]
     },
     "metadata": {
      "needs_background": "light"
     },
     "output_type": "display_data"
    }
   ],
   "source": [
    "# plot loss history\n",
    "plt.figure(figsize=(10,5))\n",
    "plt.title('Loss Progress')\n",
    "plt.plot(loss_history['gen'], label='Gen. Loss')\n",
    "plt.plot(loss_history['dis'], label='Dis. Loss')\n",
    "plt.xlabel('batch count')\n",
    "plt.ylabel('Loss')\n",
    "plt.legend()\n",
    "plt.show()"
   ]
  },
  {
   "cell_type": "code",
   "execution_count": 12,
   "id": "c52544ad",
   "metadata": {},
   "outputs": [
    {
     "ename": "NameError",
     "evalue": "name 'path2weights_gen' is not defined",
     "output_type": "error",
     "traceback": [
      "\u001b[1;31m---------------------------------------------------------------------------\u001b[0m",
      "\u001b[1;31mNameError\u001b[0m                                 Traceback (most recent call last)",
      "\u001b[1;32m~\\AppData\\Local\\Temp/ipykernel_13492/2104375277.py\u001b[0m in \u001b[0;36m<module>\u001b[1;34m\u001b[0m\n\u001b[1;32m----> 1\u001b[1;33m \u001b[0mweights\u001b[0m \u001b[1;33m=\u001b[0m \u001b[0mtorch\u001b[0m\u001b[1;33m.\u001b[0m\u001b[0mload\u001b[0m\u001b[1;33m(\u001b[0m\u001b[0mpath2weights_gen\u001b[0m\u001b[1;33m)\u001b[0m\u001b[1;33m\u001b[0m\u001b[1;33m\u001b[0m\u001b[0m\n\u001b[0m\u001b[0;32m      2\u001b[0m \u001b[0mmodel_gen\u001b[0m\u001b[1;33m.\u001b[0m\u001b[0mload_state_dict\u001b[0m\u001b[1;33m(\u001b[0m\u001b[0mweights\u001b[0m\u001b[1;33m)\u001b[0m\u001b[1;33m\u001b[0m\u001b[1;33m\u001b[0m\u001b[0m\n\u001b[0;32m      3\u001b[0m \u001b[1;33m\u001b[0m\u001b[0m\n\u001b[0;32m      4\u001b[0m \u001b[1;31m# evalutaion mode\u001b[0m\u001b[1;33m\u001b[0m\u001b[1;33m\u001b[0m\u001b[1;33m\u001b[0m\u001b[0m\n\u001b[0;32m      5\u001b[0m \u001b[0mmodel_gen\u001b[0m\u001b[1;33m.\u001b[0m\u001b[0meval\u001b[0m\u001b[1;33m(\u001b[0m\u001b[1;33m)\u001b[0m\u001b[1;33m\u001b[0m\u001b[1;33m\u001b[0m\u001b[0m\n",
      "\u001b[1;31mNameError\u001b[0m: name 'path2weights_gen' is not defined"
     ]
    }
   ],
   "source": [
    "weights = torch.load(path2weights_gen)\n",
    "model_gen.load_state_dict(weights)\n",
    "\n",
    "# evalutaion mode\n",
    "model_gen.eval()\n",
    "\n",
    "# fake image 생성\n",
    "with torch.no_grad():\n",
    "    fixed_noise = torch.randn(16, 100, device=device)\n",
    "    label = torch.randint(0,10,(16,), device=device)\n",
    "    img_fake = model_gen(fixed_noise, label).detach().cpu()\n",
    "print(img_fake.shape)"
   ]
  },
  {
   "cell_type": "code",
   "execution_count": null,
   "id": "cffb13a7",
   "metadata": {},
   "outputs": [],
   "source": [
    "plt.figure(figsize=(10,10))\n",
    "for ii in range(16):\n",
    "    plt.subplot(4,4,ii+1)\n",
    "    plt.imshow(to_pil_image(0.5*img_fake[ii]+0.5), cmap='gray')\n",
    "    plt.axis('off')"
   ]
  }
 ],
 "metadata": {
  "kernelspec": {
   "display_name": "Python 3 (ipykernel)",
   "language": "python",
   "name": "python3"
  },
  "language_info": {
   "codemirror_mode": {
    "name": "ipython",
    "version": 3
   },
   "file_extension": ".py",
   "mimetype": "text/x-python",
   "name": "python",
   "nbconvert_exporter": "python",
   "pygments_lexer": "ipython3",
   "version": "3.8.12"
  }
 },
 "nbformat": 4,
 "nbformat_minor": 5
}
