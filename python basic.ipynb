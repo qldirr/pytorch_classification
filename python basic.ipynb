{
 "cells": [
  {
   "cell_type": "code",
   "execution_count": 1,
   "id": "9ce0e302",
   "metadata": {},
   "outputs": [
    {
     "data": {
      "text/plain": [
       "'1.10.2'"
      ]
     },
     "execution_count": 1,
     "metadata": {},
     "output_type": "execute_result"
    }
   ],
   "source": [
    "import torch\n",
    "import torchvision\n",
    "\n",
    "torch.__version__"
   ]
  },
  {
   "cell_type": "code",
   "execution_count": 13,
   "id": "768875ab",
   "metadata": {},
   "outputs": [
    {
     "name": "stdout",
     "output_type": "stream",
     "text": [
      "8\n",
      "15\n"
     ]
    }
   ],
   "source": [
    "#def(), class()의 차이점을 파악하기 위한 python기초 코드(함수와 클래스의 차이)\n",
    "result=1   #전역변수\n",
    "result2=2\n",
    "\n",
    "class Calculator:    #기 선언된 함수를 클래스 내로 넣기 위해서는 들여쓰기에 유의\n",
    "    def __init__(self):   #객체 생성 시 호출되는 초기화 함수(=생성자라고도 한다)\n",
    "        self.result1=5\n",
    "        self.result2=5\n",
    "        \n",
    "    def add(self,num1):\n",
    "        self.result1 += num1\n",
    "\n",
    "        return self.result1\n",
    "\n",
    "    def mul(self,num2):\n",
    "        self.result2=self.result2 *num2\n",
    "\n",
    "        return self.result2\n",
    "\n",
    "cal = Calculator()  #객체명:'cal', class명:Calculator\n",
    "print(cal.add(3))\n",
    "print(cal.mul(3))\n",
    "#객체 선언 후 클래스에 접근 후 선언된 객체를 통해 함수에 접근"
   ]
  },
  {
   "cell_type": "code",
   "execution_count": null,
   "id": "f99581c0",
   "metadata": {},
   "outputs": [],
   "source": []
  }
 ],
 "metadata": {
  "kernelspec": {
   "display_name": "Python 3 (ipykernel)",
   "language": "python",
   "name": "python3"
  },
  "language_info": {
   "codemirror_mode": {
    "name": "ipython",
    "version": 3
   },
   "file_extension": ".py",
   "mimetype": "text/x-python",
   "name": "python",
   "nbconvert_exporter": "python",
   "pygments_lexer": "ipython3",
   "version": "3.8.12"
  }
 },
 "nbformat": 4,
 "nbformat_minor": 5
}
