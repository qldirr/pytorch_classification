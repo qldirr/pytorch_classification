{
 "cells": [
  {
   "cell_type": "code",
   "execution_count": 1,
   "id": "1c83a7e1",
   "metadata": {},
   "outputs": [
    {
     "data": {
      "text/plain": [
       "'\\n#첫번째 레이어\\n합성곱(in_channel = 1, out_channel = 32, kernel_size = 3, stride = 1, padding = 1) + 활성화 함수(activation function) ReLU\\n맥스풀링(kernel_size = 2, stride = 2)\\n\\n#두번째 레이어\\n합성곱(in_channel = 23, out_channel = 64, kernel_size = 3, stride = 1, padding = 1) + 활성화 함수(activation function) ReLU\\n맥스풀링(kernel_size = 2, stride = 2)\\n\\n#세번째 레이어\\nbatch_size * 7 * 7 * 64 => batch size = 3136 (특성맵을 펼치는 레이어)\\nFully connected(전결합층 뉴런 10개) + 활성화 함수 softmax\\n'"
      ]
     },
     "execution_count": 1,
     "metadata": {},
     "output_type": "execute_result"
    }
   ],
   "source": [
    "'''\n",
    "#첫번째 레이어\n",
    "합성곱(in_channel = 1, out_channel = 32, kernel_size = 3, stride = 1, padding = 1) + 활성화 함수(activation function) ReLU\n",
    "맥스풀링(kernel_size = 2, stride = 2)\n",
    "\n",
    "#두번째 레이어\n",
    "합성곱(in_channel = 23, out_channel = 64, kernel_size = 3, stride = 1, padding = 1) + 활성화 함수(activation function) ReLU\n",
    "맥스풀링(kernel_size = 2, stride = 2)\n",
    "\n",
    "#세번째 레이어\n",
    "batch_size * 7 * 7 * 64 => batch size = 3136 (특성맵을 펼치는 레이어)\n",
    "Fully connected(전결합층 뉴런 10개) + 활성화 함수 softmax\n",
    "'''"
   ]
  },
  {
   "cell_type": "code",
   "execution_count": 13,
   "id": "0969e84e",
   "metadata": {},
   "outputs": [],
   "source": [
    "import torch\n",
    "import torch.nn as nn"
   ]
  },
  {
   "cell_type": "code",
   "execution_count": 14,
   "id": "d5372080",
   "metadata": {},
   "outputs": [
    {
     "name": "stdout",
     "output_type": "stream",
     "text": [
      "텐서의 크기: torch.Size([1, 1, 28, 28])\n"
     ]
    }
   ],
   "source": [
    "#임의의 텐서 생성 (1,1,28,28) -> MNIST데이터\n",
    "inputs = torch.Tensor(1,1,28,28)\n",
    "print('텐서의 크기: {}'.format(inputs.shape))"
   ]
  },
  {
   "cell_type": "code",
   "execution_count": 15,
   "id": "0d6ee233",
   "metadata": {},
   "outputs": [
    {
     "name": "stdout",
     "output_type": "stream",
     "text": [
      "Conv2d(1, 32, kernel_size=(3, 3), stride=(1, 1), padding=(1, 1))\n"
     ]
    }
   ],
   "source": [
    "#첫번째 합성곱층 선언\n",
    "conv1 = nn.Conv2d(1, 32, 3, padding = 1)   #Conv2d내의 인자값(input_channel,output_channel,커널 사이즈,패딩)\n",
    "print(conv1)"
   ]
  },
  {
   "cell_type": "code",
   "execution_count": 23,
   "id": "324b6aa8",
   "metadata": {},
   "outputs": [
    {
     "name": "stdout",
     "output_type": "stream",
     "text": [
      "Conv2d(32, 64, kernel_size=(3, 3), stride=(1, 1), padding=(1, 1))\n"
     ]
    }
   ],
   "source": [
    "#두번째 합성곱층 선언\n",
    "conv2 = nn.Conv2d(32, 64, 3, padding = 1)\n",
    "print(conv2)"
   ]
  },
  {
   "cell_type": "code",
   "execution_count": 24,
   "id": "17ce3dd0",
   "metadata": {},
   "outputs": [
    {
     "name": "stdout",
     "output_type": "stream",
     "text": [
      "MaxPool2d(kernel_size=2, stride=2, padding=0, dilation=1, ceil_mode=False)\n"
     ]
    }
   ],
   "source": [
    "#세번째 합성곱층 선언(풀링 레이어)\n",
    "pool = nn.MaxPool2d(2)   #간단히 선언하면 선언된 하나의 정수값을 통해 kernel size, stride가 결정되게 된다\n",
    "print(pool)\n"
   ]
  },
  {
   "cell_type": "code",
   "execution_count": 25,
   "id": "c69693a3",
   "metadata": {},
   "outputs": [
    {
     "name": "stdout",
     "output_type": "stream",
     "text": [
      "torch.Size([1, 32, 28, 28])\n"
     ]
    }
   ],
   "source": [
    "#선언된 레이어를 연결하는 과정\n",
    "#첫번째 레이어 지나가기\n",
    "out = conv1(inputs)\n",
    "print(out.shape)"
   ]
  },
  {
   "cell_type": "code",
   "execution_count": 26,
   "id": "915d1044",
   "metadata": {},
   "outputs": [
    {
     "name": "stdout",
     "output_type": "stream",
     "text": [
      "torch.Size([1, 32, 14, 14])\n"
     ]
    }
   ],
   "source": [
    "#컨벌루셔널 레이어를 거쳐갈 경우 마지막에 pooling layer가 존재\n",
    "out = pool(out)\n",
    "print(out.shape)"
   ]
  },
  {
   "cell_type": "code",
   "execution_count": 27,
   "id": "eea46cc0",
   "metadata": {},
   "outputs": [
    {
     "name": "stdout",
     "output_type": "stream",
     "text": [
      "torch.Size([1, 64, 14, 14])\n"
     ]
    }
   ],
   "source": [
    "#두번째 레이어 지나가기\n",
    "out = conv2(out)\n",
    "print(out.shape)"
   ]
  },
  {
   "cell_type": "code",
   "execution_count": 28,
   "id": "326f3523",
   "metadata": {},
   "outputs": [
    {
     "name": "stdout",
     "output_type": "stream",
     "text": [
      "torch.Size([1, 64, 7, 7])\n"
     ]
    }
   ],
   "source": [
    "out = pool(out)\n",
    "print(out.shape)"
   ]
  },
  {
   "cell_type": "code",
   "execution_count": 29,
   "id": "3893b34c",
   "metadata": {},
   "outputs": [
    {
     "name": "stdout",
     "output_type": "stream",
     "text": [
      "torch.Size([1, 3136])\n"
     ]
    }
   ],
   "source": [
    "#view() 함수를 사용해 텐서를 펼치는 작업\n",
    "out = out.view(out.size(0), -1)\n",
    "print(out.shape)"
   ]
  },
  {
   "cell_type": "code",
   "execution_count": 30,
   "id": "af4db451",
   "metadata": {},
   "outputs": [
    {
     "name": "stdout",
     "output_type": "stream",
     "text": [
      "torch.Size([1, 10])\n"
     ]
    }
   ],
   "source": [
    "fc = nn.Linear(3136,10)   #fully connected:전체를 연결(기초적인 신경망), 통합된 텐서를 통해 0~9까지의 결과를 갖기땜에 10개의 output\n",
    "out=fc(out)\n",
    "print(out.shape)\n",
    "\n",
    "#여기가까지가 전체 모델 설정 과정"
   ]
  },
  {
   "cell_type": "code",
   "execution_count": 31,
   "id": "39f774ac",
   "metadata": {},
   "outputs": [],
   "source": [
    "#위에서 선언한 신경망을 통해 MNIST(숫자 데이터셋) 분류문제 해결\n",
    "import torch\n",
    "import torchvision.datasets as dsets\n",
    "import torchvision.transforms as transforms\n",
    "import torch.nn.init"
   ]
  },
  {
   "cell_type": "code",
   "execution_count": 34,
   "id": "91ac0d5b",
   "metadata": {},
   "outputs": [],
   "source": [
    "device = 'cuda' if torch.cuda.is_available() else 'cpu'\n",
    "#torch.cuda.is_available()함수는 True/False의 boolean형태로 나타나게되는데, CUDA를 사용 가능할 경우 True반환하기 때문에\n",
    "#if 조건을 만족하는 device='cuda'가 되고 사용불가 시 False를 반환하기 때문에 else조건을 만족하는 device='cpu'가 됨\n",
    "\n",
    "#GPU 사용시에 고정시킬 시드 선언\n",
    "torch.manual_seed(777)\n",
    "\n",
    "#만약 CPU가 아닌 GPU를 사용해 훈련을 진행할 경우 고정된 시드를 통해 GPU 로 학습\n",
    "if device == 'cuda':\n",
    "    torch.cuda.manual_seed_all(777)"
   ]
  },
  {
   "cell_type": "code",
   "execution_count": 36,
   "id": "01fe7fab",
   "metadata": {},
   "outputs": [],
   "source": [
    "#학습에 사용되는 변수(파라미터들 학습률, 에폭, 배치사이즈 등) 선언\n",
    "learning_rate=0.001\n",
    "training_epoch=15\n",
    "batch_size=100"
   ]
  },
  {
   "cell_type": "code",
   "execution_count": 37,
   "id": "db411deb",
   "metadata": {},
   "outputs": [
    {
     "name": "stdout",
     "output_type": "stream",
     "text": [
      "Downloading http://yann.lecun.com/exdb/mnist/train-images-idx3-ubyte.gz\n"
     ]
    },
    {
     "name": "stderr",
     "output_type": "stream",
     "text": [
      "\r",
      "0.0%"
     ]
    },
    {
     "name": "stdout",
     "output_type": "stream",
     "text": [
      "Downloading http://yann.lecun.com/exdb/mnist/train-images-idx3-ubyte.gz to MNIST_data/MNIST\\raw\\train-images-idx3-ubyte.gz\n"
     ]
    },
    {
     "name": "stderr",
     "output_type": "stream",
     "text": [
      "31.0%IOPub message rate exceeded.\n",
      "The notebook server will temporarily stop sending output\n",
      "to the client in order to avoid crashing it.\n",
      "To change this limit, set the config variable\n",
      "`--NotebookApp.iopub_msg_rate_limit`.\n",
      "\n",
      "Current values:\n",
      "NotebookApp.iopub_msg_rate_limit=1000.0 (msgs/sec)\n",
      "NotebookApp.rate_limit_window=3.0 (secs)\n",
      "\n",
      "91.1%IOPub message rate exceeded.\n",
      "The notebook server will temporarily stop sending output\n",
      "to the client in order to avoid crashing it.\n",
      "To change this limit, set the config variable\n",
      "`--NotebookApp.iopub_msg_rate_limit`.\n",
      "\n",
      "Current values:\n",
      "NotebookApp.iopub_msg_rate_limit=1000.0 (msgs/sec)\n",
      "NotebookApp.rate_limit_window=3.0 (secs)\n",
      "\n"
     ]
    }
   ],
   "source": [
    "#MNIST train, test 데이터셋을 torchvision.datasets를 통해 비교적 쉽게 가져오기\n",
    "mnist_train = dsets.MNIST(root='MNIST_data/', train=True, transform=transforms.ToTensor(), download=True)\n",
    "\n",
    "mnist_test = dsets.MNIST(root='MNIST_data/', train=False, transform=transforms.ToTensor(), download=True)\n"
   ]
  },
  {
   "cell_type": "code",
   "execution_count": 38,
   "id": "6a6b7541",
   "metadata": {},
   "outputs": [],
   "source": [
    "#데이터로더를 이용해 배치크기 결정\n",
    "data_loader = torch.utils.data.DataLoader(dataset=mnist_train, batch_size=batch_size,shuffle=True,drop_last=True)"
   ]
  },
  {
   "cell_type": "code",
   "execution_count": 41,
   "id": "1c8dcd40",
   "metadata": {},
   "outputs": [],
   "source": [
    "class CNN(torch.nn.Module):   #CNN구조를 사용한 모델을 선언하기 위한 클래스\n",
    "    def __init__(self):   #초기화 함수, 동시에 모델의 구조를 선언하는 함수\n",
    "        super(CNN, self).__init__()\n",
    "        \n",
    "        self.layer1 = torch.nn.Sequential(torch.nn.Conv2d(1,32,kernel_size=3,stride=1,padding=1), torch.nn.ReLU(),\n",
    "                                          torch.nn.MaxPool2d(kernel_size=2, stride=2))\n",
    "        \n",
    "        self.layer2 = torch.nn.Sequential(torch.nn.Conv2d(32,64,kernel_size=3,stride=1,padding=1), torch.nn.ReLU(),\n",
    "                                          torch.nn.MaxPool2d(kernel_size=2, stride=2))\n",
    "        \n",
    "        self.fc = torch.nn.Linear(7*7*64, 10, bias=True)\n",
    "        \n",
    "        torch.nn.init.xavier_uniform_(self.fc.weight)\n",
    "        \n",
    "    def forward(self,x):   #레이어를 거치며 계산되는 가중치를 전달하기 위해 사용하는 함수\n",
    "        out = self.layer1(x)\n",
    "        out = self.layer2(out)\n",
    "        out = out.view(out.size(0),-1)\n",
    "        out = self.fc(out)\n",
    "        \n",
    "        return out"
   ]
  },
  {
   "cell_type": "code",
   "execution_count": 42,
   "id": "8040c9f7",
   "metadata": {},
   "outputs": [],
   "source": [
    "model = CNN().to(device)   #model 이라는 객체를 통해 CNN클래스가 선언이 되고 이는 .to(device)를 통해 GPU에서 연산을 하게됨\n",
    "  "
   ]
  },
  {
   "cell_type": "code",
   "execution_count": 44,
   "id": "c8ff7719",
   "metadata": {},
   "outputs": [],
   "source": [
    "# 배용함수(loss function = cost function)은 크로스엔트로피로 설정\n",
    "#옵티마이저는 Adam으로 설정\n",
    "criterion = torch.nn.CrossEntropyLoss().to(device)\n",
    "optimizer = torch.optim.Adam(model.parameters(), lr=learning_rate)"
   ]
  },
  {
   "cell_type": "code",
   "execution_count": 47,
   "id": "93661c38",
   "metadata": {},
   "outputs": [
    {
     "name": "stdout",
     "output_type": "stream",
     "text": [
      "총 배치의 수 : 600\n"
     ]
    }
   ],
   "source": [
    "total_batch = len(data_loader)\n",
    "print('총 배치의 수 : {}'.format(total_batch))\n",
    "#MNIST dataset은 60000개의 데이터를 가지고 있는데 batch_size를 100번으로 설정했으므로 총 600의 batch_size를 가지게됨"
   ]
  },
  {
   "cell_type": "code",
   "execution_count": 50,
   "id": "f0211788",
   "metadata": {},
   "outputs": [
    {
     "name": "stdout",
     "output_type": "stream",
     "text": [
      "[Epoch:    1] cost = 0.0051192441\n",
      "[Epoch:    2] cost = 0.00445792684\n",
      "[Epoch:    3] cost = 0.00460245507\n",
      "[Epoch:    4] cost = 0.00304334541\n",
      "[Epoch:    5] cost = 0.00230825413\n",
      "[Epoch:    6] cost = 0.00578143727\n",
      "[Epoch:    7] cost = 0.00336918654\n",
      "[Epoch:    8] cost = 0.00140294537\n",
      "[Epoch:    9] cost = 0.00310330023\n",
      "[Epoch:   10] cost = 0.0025977646\n",
      "[Epoch:   11] cost = 0.00306333415\n",
      "[Epoch:   12] cost = 0.00145115319\n",
      "[Epoch:   13] cost = 0.00251600705\n",
      "[Epoch:   14] cost = 0.00151396764\n",
      "[Epoch:   15] cost = 0.0016085048\n"
     ]
    }
   ],
   "source": [
    "for epoch in range(training_epoch):\n",
    "    avg_cost = 0\n",
    "    \n",
    "    for X,Y in data_loader:\n",
    "        X = X.to(device)\n",
    "        Y = Y.to(device)\n",
    "        \n",
    "        optimizer.zero_grad()\n",
    "        hypothesis = model(X)\n",
    "        cost = criterion(hypothesis, Y)\n",
    "        cost.backward()\n",
    "        optimizer.step()\n",
    "        \n",
    "        avg_cost += cost / total_batch\n",
    "        \n",
    "    print('[Epoch: {:>4}] cost = {:>.9}'.format(epoch+1, avg_cost))\n"
   ]
  },
  {
   "cell_type": "code",
   "execution_count": 51,
   "id": "79d1dedc",
   "metadata": {},
   "outputs": [
    {
     "name": "stdout",
     "output_type": "stream",
     "text": [
      "Accuracy: 0.9835999608039856\n"
     ]
    },
    {
     "name": "stderr",
     "output_type": "stream",
     "text": [
      "C:\\Users\\03\\anaconda3\\envs\\pytorch\\lib\\site-packages\\torchvision\\datasets\\mnist.py:67: UserWarning: test_data has been renamed data\n",
      "  warnings.warn(\"test_data has been renamed data\")\n",
      "C:\\Users\\03\\anaconda3\\envs\\pytorch\\lib\\site-packages\\torchvision\\datasets\\mnist.py:57: UserWarning: test_labels has been renamed targets\n",
      "  warnings.warn(\"test_labels has been renamed targets\")\n"
     ]
    }
   ],
   "source": [
    "with torch.no_grad():\n",
    "    X_test = mnist_test.test_data.view(len(mnist_test),1,28,28).float().to(device)\n",
    "    Y_test = mnist_test.test_labels.to(device)\n",
    "    \n",
    "    prediction = model(X_test)\n",
    "    correct_prediction = torch.argmax(prediction, 1) == Y_test\n",
    "    accuracy = correct_prediction.float().mean()\n",
    "    print('Accuracy:', accuracy.item())"
   ]
  },
  {
   "cell_type": "code",
   "execution_count": null,
   "id": "5ae3848e",
   "metadata": {},
   "outputs": [],
   "source": []
  }
 ],
 "metadata": {
  "kernelspec": {
   "display_name": "Python 3 (ipykernel)",
   "language": "python",
   "name": "python3"
  },
  "language_info": {
   "codemirror_mode": {
    "name": "ipython",
    "version": 3
   },
   "file_extension": ".py",
   "mimetype": "text/x-python",
   "name": "python",
   "nbconvert_exporter": "python",
   "pygments_lexer": "ipython3",
   "version": "3.8.12"
  }
 },
 "nbformat": 4,
 "nbformat_minor": 5
}
